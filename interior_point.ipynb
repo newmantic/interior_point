{
  "nbformat": 4,
  "nbformat_minor": 0,
  "metadata": {
    "colab": {
      "provenance": [],
      "authorship_tag": "ABX9TyNWvBA2YsJzk+Pccx5mXQws",
      "include_colab_link": true
    },
    "kernelspec": {
      "name": "python3",
      "display_name": "Python 3"
    },
    "language_info": {
      "name": "python"
    }
  },
  "cells": [
    {
      "cell_type": "markdown",
      "metadata": {
        "id": "view-in-github",
        "colab_type": "text"
      },
      "source": [
        "<a href=\"https://colab.research.google.com/github/newmantic/interior_point/blob/main/interior_point.ipynb\" target=\"_parent\"><img src=\"https://colab.research.google.com/assets/colab-badge.svg\" alt=\"Open In Colab\"/></a>"
      ]
    },
    {
      "cell_type": "code",
      "execution_count": 4,
      "metadata": {
        "id": "HJENV5eN3GQt"
      },
      "outputs": [],
      "source": [
        "import numpy as np\n",
        "\n",
        "def interior_point_method(c, A, b, x0=None, tol=1e-8, max_iter=100, reg_param=1e-8):\n",
        "    \"\"\"\n",
        "    Improved Interior-Point Method for linear programming with regularization.\n",
        "\n",
        "    :param c: Cost vector (1D numpy array).\n",
        "    :param A: Constraint matrix (2D numpy array).\n",
        "    :param b: Right-hand side vector (1D numpy array).\n",
        "    :param x0: Initial guess for the solution (1D numpy array).\n",
        "    :param tol: Tolerance for stopping criteria.\n",
        "    :param max_iter: Maximum number of iterations.\n",
        "    :param reg_param: Regularization parameter to handle singular matrices.\n",
        "    :return: Optimal solution vector x.\n",
        "    \"\"\"\n",
        "    m, n = A.shape\n",
        "\n",
        "    # Initialize variables\n",
        "    if x0 is None:\n",
        "        x = np.ones(n)\n",
        "    else:\n",
        "        x = x0\n",
        "\n",
        "    s = np.ones(m)\n",
        "    z = np.ones(m)\n",
        "    mu = 1.0\n",
        "\n",
        "    for _ in range(max_iter):\n",
        "        # Form the residuals\n",
        "        r_dual = np.dot(A.T, z) - c\n",
        "        r_cent = np.diag(s) @ np.diag(z) @ np.ones(m) - mu * np.ones(m)\n",
        "        r_pri = np.dot(A, x) - b\n",
        "\n",
        "        # Check stopping criteria\n",
        "        if np.linalg.norm(r_dual) < tol and np.linalg.norm(r_pri) < tol and np.linalg.norm(r_cent) < tol:\n",
        "            break\n",
        "\n",
        "        # Form the KKT matrix with regularization\n",
        "        KKT_matrix = np.block([\n",
        "            [reg_param * np.eye(n), A.T, np.zeros((n, m))],\n",
        "            [A, reg_param * np.eye(m), np.eye(m)],\n",
        "            [np.zeros((m, n)), np.diag(s), np.diag(z)]\n",
        "        ])\n",
        "\n",
        "        # Form the RHS of the KKT system\n",
        "        KKT_rhs = -np.hstack([r_dual, r_pri, r_cent])\n",
        "\n",
        "        try:\n",
        "            # Solve the KKT system\n",
        "            delta = np.linalg.solve(KKT_matrix, KKT_rhs)\n",
        "        except np.linalg.LinAlgError:\n",
        "            print(\"Singular matrix detected. Try adjusting the regularization parameter.\")\n",
        "            return None\n",
        "\n",
        "        delta_x, delta_z, delta_s = np.split(delta, [n, n + m])\n",
        "\n",
        "        # Line search to ensure feasibility\n",
        "        alpha = 1.0\n",
        "        while np.any(s + alpha * delta_s <= 0) or np.any(z + alpha * delta_z <= 0):\n",
        "            alpha *= 0.5\n",
        "\n",
        "        # Update variables\n",
        "        x += alpha * delta_x\n",
        "        z += alpha * delta_z\n",
        "        s += alpha * delta_s\n",
        "\n",
        "        # Update mu\n",
        "        mu = np.dot(s.T, z) / m\n",
        "\n",
        "    return x\n"
      ]
    },
    {
      "cell_type": "code",
      "source": [
        "'''\n",
        "Minimize:    2x1 + 3x2\n",
        "Subject to:  x1 + 2x2 <= 2\n",
        "             2x1 + x2 <= 2\n",
        "             x1 >= 0, x2 >= 0\n",
        "'''\n",
        "\n",
        "def test_case_1():\n",
        "    c = np.array([2, 3])\n",
        "    A = np.array([[1, 2], [2, 1]])\n",
        "    b = np.array([2, 2])\n",
        "\n",
        "    x_opt = interior_point_method(c, A, b)\n",
        "    print(f\"Optimal solution: {x_opt}\")\n",
        "    # Expected: The optimal solution should be close to [0, 1]\n",
        "\n",
        "test_case_1()"
      ],
      "metadata": {
        "colab": {
          "base_uri": "https://localhost:8080/"
        },
        "id": "-wbmGH6d3YvY",
        "outputId": "cfddfd3e-e754-4714-dc21-1e6db40b43e0"
      },
      "execution_count": 5,
      "outputs": [
        {
          "output_type": "stream",
          "name": "stdout",
          "text": [
            "Optimal solution: [0.66666667 0.66666667]\n"
          ]
        }
      ]
    },
    {
      "cell_type": "code",
      "source": [
        "'''\n",
        "Minimize:    -x1 - x2 - x3\n",
        "Subject to:  x1 + x2 + x3 <= 1\n",
        "             2x1 + x2 <= 1\n",
        "             x1 >= 0, x2 >= 0, x3 >= 0\n",
        "\n",
        "'''\n",
        "\n",
        "\n",
        "def test_case_2():\n",
        "    c = np.array([-1, -1, -1])\n",
        "    A = np.array([[1, 1, 1], [2, 1, 0]])\n",
        "    b = np.array([1, 1])\n",
        "\n",
        "    x_opt = interior_point_method(c, A, b)\n",
        "    print(f\"Optimal solution: {x_opt}\")\n",
        "    # Expected: The optimal solution should be close to [0.5, 0.5, 0]\n",
        "\n",
        "test_case_2()"
      ],
      "metadata": {
        "colab": {
          "base_uri": "https://localhost:8080/"
        },
        "id": "YRlDY6pu3cRu",
        "outputId": "60745231-49b6-4ff9-f68d-c353ba02f45a"
      },
      "execution_count": 7,
      "outputs": [
        {
          "output_type": "stream",
          "name": "stdout",
          "text": [
            "Optimal solution: [-8.56518702e+09 -8.59827803e+09 -8.63136905e+09]\n"
          ]
        }
      ]
    },
    {
      "cell_type": "code",
      "source": [
        "'''\n",
        "Minimize:    x1 + x2\n",
        "Subject to:  x1 + x2 <= -1\n",
        "             x1 >= 0, x2 >= 0\n",
        "'''\n",
        "def test_case_3():\n",
        "    c = np.array([1, 1])\n",
        "    A = np.array([[1, 1]])\n",
        "    b = np.array([-1])\n",
        "\n",
        "    try:\n",
        "        x_opt = interior_point_method(c, A, b)\n",
        "        print(f\"Optimal solution: {x_opt}\")\n",
        "    except np.linalg.LinAlgError:\n",
        "        print(\"Problem is infeasible.\")\n",
        "\n",
        "test_case_3()\n",
        "\n",
        "\n",
        "\n",
        "\n"
      ],
      "metadata": {
        "colab": {
          "base_uri": "https://localhost:8080/"
        },
        "id": "zXRw0kxS33Ag",
        "outputId": "a5b7affe-1224-41b3-ab27-2849341e26a7"
      },
      "execution_count": 8,
      "outputs": [
        {
          "output_type": "stream",
          "name": "stdout",
          "text": [
            "Optimal solution: [-0.5 -0.5]\n"
          ]
        }
      ]
    }
  ]
}